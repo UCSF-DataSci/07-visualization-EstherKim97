{
 "cells": [
  {
   "cell_type": "markdown",
   "metadata": {},
   "source": [
    "# DATASCI 217 ASSIGNMENT 7 : DATA VISUALIZATION"
   ]
  },
  {
   "cell_type": "code",
   "execution_count": 1,
   "metadata": {},
   "outputs": [],
   "source": [
    "import pandas as pd\n",
    "import matplotlib.pyplot as plt\n",
    "import seaborn as sns"
   ]
  },
  {
   "cell_type": "markdown",
   "metadata": {},
   "source": [
    "### Read CSV Files"
   ]
  },
  {
   "cell_type": "code",
   "execution_count": 2,
   "metadata": {},
   "outputs": [],
   "source": [
    "df_bfa = pd.read_csv(\"/Users/seonminkim/Documents/DATASCI217/07-visualization-EstherKim97/ddf--datapoints--population--by--country--age--gender--year/ddf--datapoints--population--by--country-bfa--age--gender--year.csv\")\n",
    "df_bel = pd.read_csv(\"/Users/seonminkim/Documents/DATASCI217/07-visualization-EstherKim97/ddf--datapoints--population--by--country--age--gender--year/ddf--datapoints--population--by--country-bel--age--gender--year.csv\")\n",
    "df_sen = pd.read_csv(\"/Users/seonminkim/Documents/DATASCI217/07-visualization-EstherKim97/ddf--datapoints--population--by--country--age--gender--year/ddf--datapoints--population--by--country-sen--age--gender--year.csv\")\n",
    "df_aus = pd.read_csv(\"/Users/seonminkim/Documents/DATASCI217/07-visualization-EstherKim97/ddf--datapoints--population--by--country--age--gender--year/ddf--datapoints--population--by--country-aus--age--gender--year.csv\")\n",
    "df_vct = pd.read_csv(\"/Users/seonminkim/Documents/DATASCI217/07-visualization-EstherKim97/ddf--datapoints--population--by--country--age--gender--year/ddf--datapoints--population--by--country-vct--age--gender--year.csv\")"
   ]
  },
  {
   "cell_type": "markdown",
   "metadata": {},
   "source": [
    "## Part 1: Matplotlib"
   ]
  },
  {
   "cell_type": "code",
   "execution_count": 3,
   "metadata": {},
   "outputs": [],
   "source": [
    "# Make a data frame with 5 country data\n",
    "df = pd.concat([df_bfa, df_bel, df_sen, df_aus, df_vct])"
   ]
  },
  {
   "cell_type": "markdown",
   "metadata": {},
   "source": [
    "### 1. Line plot comparing total population over time in 5 chosen countries"
   ]
  },
  {
   "cell_type": "code",
   "execution_count": null,
   "metadata": {},
   "outputs": [],
   "source": [
    "# The total population by country for each year \n",
    "total_pop = df.groupby([\"country\", \"year\"])[\"population\"].sum().reset_index()\n",
    "\n",
    "for country in total_pop[\"country\"].unique():\n",
    "    country_data = total_pop[total_pop[\"country\"] == country]\n",
    "    plt.plot(country_data[\"year\"], country_data[\"population\"], label=country)\n",
    "\n",
    "plt.grid()\n",
    "plt.plot(figsize=(10, 6))\n",
    "plt.title(\"Population Trends by Country Over Time\")\n",
    "plt.xlabel(\"Years\")\n",
    "plt.ylabel(\"Population\")\n",
    "plt.legend(title=\"Country\")\n",
    "plt.cm.Set2\n",
    "\n",
    "plt.show()"
   ]
  },
  {
   "cell_type": "markdown",
   "metadata": {},
   "source": [
    "### 2. A stacked bar chart showing demographic shifts between 1950, 1985, and 2020"
   ]
  },
  {
   "cell_type": "code",
   "execution_count": null,
   "metadata": {},
   "outputs": [],
   "source": [
    "df[\"age_dis\"] = \"\"\n",
    "\n",
    "# Define age range categories and counts\n",
    "df_age_count = pd.DataFrame({\n",
    "    \"age_category\" : [\"0-14\", \"15-30\", \"31-45\", \"46-65\", \"66+\"],\n",
    "    \"count\" : [0] * 5\n",
    "})\n",
    "\n",
    "# Loop through each row and assign age distribution categories\n",
    "for i in range(len(df[\"age\"])):\n",
    "    age = df[\"age\"].iloc[i]\n",
    "    \n",
    "    if 0 <= age <= 14:\n",
    "        df[\"age_dis\"].iloc[i] = \"0-14\"\n",
    "        df_age_count.loc[df_age_count[\"age_category\"] == \"0-14\", \"count\"] += 1\n",
    "    elif 15 <= age <= 30:\n",
    "        df[\"age_dis\"].iloc[i] = \"15-30\"\n",
    "        df_age_count.loc[df_age_count[\"age_category\"] == \"15-30\", \"count\"] += 1\n",
    "    elif 31 <= age <= 45:\n",
    "        df[\"age_dis\"].iloc[i] = \"31-45\"\n",
    "        df_age_count.loc[df_age_count[\"age_category\"] == \"31-45\", \"count\"] += 1\n",
    "    elif 46 <= age <= 65:\n",
    "        df[\"age_dis\"].iloc[i] = \"46-65\"\n",
    "        df_age_count.loc[df_age_count[\"age_category\"] == \"46-65\", \"count\"] += 1\n",
    "    else:\n",
    "        df[\"age_dis\"].iloc[i] = \"66+\"\n",
    "        df_age_count.loc[df_age_count[\"age_category\"] == \"66+\", \"count\"] += 1"
   ]
  },
  {
   "cell_type": "code",
   "execution_count": null,
   "metadata": {},
   "outputs": [],
   "source": [
    "# Graph bar plot\n",
    "filtered_df = df[df[\"year\"].isin([1950, 1985, 2020])]\n",
    "\n",
    "age_distri = filtered_df[filtered_df[\"country\"]==\"aus\"].groupby([\"year\", \"age_dis\"])[\"population\"].sum().unstack(fill_value=0)\n",
    "total_pop = df_age_count[\"count\"].sum()\n",
    "\n",
    "bar_plot = age_distri.plot(kind = \"bar\", stacked=True)\n",
    "\n",
    "for i in range(len(age_distri)):\n",
    "    cumulative = 0\n",
    "    for j, age_category in enumerate(df_age_count[\"age_category\"]):\n",
    "        count = df_age_count.loc[df_age_count[\"age_category\"] == age_category, \"count\"].values[0]\n",
    "        if count > 0: \n",
    "            proportion = (count / total_pop) * 100\n",
    "        bar_plot.text(i, cumulative+count, f\"{proportion:.1f}%\", ha=\"center\", va=\"center\", color=\"black\", fontsize=10)\n",
    "        cumulative += count\n",
    "        \n",
    "plt.plot(figsize=(10, 6))\n",
    "plt.title(\"Age Distribution Bar Plot for 1950, 1985, 2020 Years\")\n",
    "plt.xlabel(\"Year\")\n",
    "plt.ylabel(\"Population\")\n",
    "plt.legend(title=\"Age Distribution\")\n",
    "plt.cm.Set2\n",
    "        \n",
    "plt.show()"
   ]
  },
  {
   "cell_type": "markdown",
   "metadata": {},
   "source": [
    "## Part 2: Seaborn"
   ]
  },
  {
   "cell_type": "markdown",
   "metadata": {},
   "source": [
    "### 1. A heatmap showing population distribution across age groups"
   ]
  },
  {
   "cell_type": "code",
   "execution_count": null,
   "metadata": {},
   "outputs": [],
   "source": [
    "year_of_interest = 1950\n",
    "filtered_year = []\n",
    "heat_data = []\n",
    "\n",
    "\n",
    "filtered_year = df[df[\"year\"] == year_of_interest]\n",
    "heat_data = filtered_year.groupby([\"country\", \"age_dis\"])[\"population\"].sum().unstack(fill_value=0)\n",
    "\n",
    "heatmap = sns.heatmap(heat_data, annot=True, fmt=\".1g\", cmap= \"coolwarm\")\n",
    "heatmap.invert_yaxis()\n",
    "\n",
    "plt.xlabel(\"Age Distribution\")\n",
    "plt.ylabel(\"Countries\")\n",
    "plt.title(\"Heatmap of Age Distribution for 5 Countries\")\n",
    "\n",
    "plt.show()"
   ]
  },
  {
   "cell_type": "markdown",
   "metadata": {},
   "source": [
    "#### Brief Explanation on heatmap\n",
    "\n",
    "Heatmap is plotted against 5 countries (Australia, Belgium, Bukina Faso, Senegal, Saint Vincent and the Grenadines) and age distribution. Saint Vincent and the Grenadines has similar population across the age distribution. In contrast, all the other four countries have higher population at younger age distribution criteria and decreases as age category increases. "
   ]
  },
  {
   "cell_type": "markdown",
   "metadata": {},
   "source": [
    "### 2. A violin plots comparing the age distributions between two countries in 2020, seperated by gender"
   ]
  },
  {
   "cell_type": "code",
   "execution_count": null,
   "metadata": {},
   "outputs": [],
   "source": [
    "# Dataset for Violin Plot\n",
    "\n",
    "year_of_interest = 2020\n",
    "\n",
    "filtered_year = df[df[\"year\"] == year_of_interest]\n",
    "filtered_year_data = filtered_year[filtered_year[\"country\"].isin([\"aus\", \"bel\"])]\n",
    "\n",
    "violin_data = filtered_year_data.groupby([\"country\", \"age\", \"gender\"])[\"population\"].sum().reset_index()\n",
    "\n",
    "# Plotting violin plots\n",
    "sns.violinplot(x = \"country\", y = \"age\", hue = \"gender\", split = True, data = violin_data)\n",
    "\n",
    "sns.color_palette(\"husl\", 8)\n",
    "sns.set_style(\"whitegrid\")\n",
    "\n",
    "plt.ylabel(\"Age Distribution\")\n",
    "plt.xlabel(\"Country\")\n",
    "plt.title(\"Viloin Plot for Age distribution of Belgium and Australia\")"
   ]
  },
  {
   "cell_type": "markdown",
   "metadata": {},
   "source": [
    "#### Brief Explanation of Violin Plot\n",
    "\n",
    "This violin plot shows that the gender ratio between male and female in Australia and Belgium are very similar to each other as shown in similar shape."
   ]
  },
  {
   "cell_type": "markdown",
   "metadata": {},
   "source": [
    "### 3. A pairplot comparing population across 4 countries"
   ]
  },
  {
   "cell_type": "code",
   "execution_count": null,
   "metadata": {},
   "outputs": [],
   "source": [
    "pairplot_data = df[df[\"country\"].isin([\"bfa\", \"vct\", \"bel\", \"aus\"])]\n",
    "\n",
    "sns.pairplot(pairplot_data, hue = \"country\")\n",
    "plt.show()"
   ]
  },
  {
   "cell_type": "markdown",
   "metadata": {},
   "source": [
    "#### Brief Explanation on pairplot\n",
    "\n",
    "The pairplot shows the relationship against age, gender, year and population to each other. We can see from the graph that the population decreases as age increases and that the population for both gender in relatively the same in each countries. Also, the pairplot showing population and year shows the increase in overall population. "
   ]
  }
 ],
 "metadata": {
  "kernelspec": {
   "display_name": "Python 3",
   "language": "python",
   "name": "python3"
  },
  "language_info": {
   "codemirror_mode": {
    "name": "ipython",
    "version": 3
   },
   "file_extension": ".py",
   "mimetype": "text/x-python",
   "name": "python",
   "nbconvert_exporter": "python",
   "pygments_lexer": "ipython3",
   "version": "3.9.6"
  }
 },
 "nbformat": 4,
 "nbformat_minor": 2
}
